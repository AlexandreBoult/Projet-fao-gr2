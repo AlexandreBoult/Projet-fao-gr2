{
 "cells": [
  {
   "cell_type": "code",
   "execution_count": 1,
   "metadata": {
    "id": "OxnUqW7ZgB05"
   },
   "outputs": [],
   "source": [
    "import pandas as pd\n",
    "import numpy as np\n",
    "\n",
    "#Lecture des csv:\n",
    "\n",
    "df_population2013=pd.read_csv(\"FAOSTAT_2013_population.csv\", sep=',')\n",
    "#df_population2013.drop(columns=['Flag Description'])\n",
    "df_animal2013=pd.read_csv(\"FAOSTAT_2013_animal.csv\",sep=',')\n",
    "df_cereal2013=pd.read_csv(\"FAOSTAT_2013_cereal.csv\",sep=',')\n",
    "df_sous_alimentation2013=pd.read_csv(\"FAOSTAT_2013_sous_alimentation.csv\",sep=',')\n",
    "df_vegetal2013=pd.read_csv(\"FAOSTAT_2013_vegetal.csv\",sep=',')\n",
    "\n",
    "\n"
   ]
  },
  {
   "cell_type": "code",
   "execution_count": 5,
   "metadata": {
    "colab": {
     "base_uri": "https://localhost:8080/"
    },
    "id": "9QHp1x50uYx7",
    "outputId": "6291df47-aa8d-4608-be72-a5e270bf699e"
   },
   "outputs": [
    {
     "name": "stdout",
     "output_type": "stream",
     "text": [
      "(175, 14) (37166, 14) (16057, 14) (204, 14) (104871, 14)\n"
     ]
    }
   ],
   "source": [
    "print(df_population2013.shape,\n",
    "df_animal2013.shape,\n",
    "df_cereal2013.shape,\n",
    "df_sous_alimentation2013.shape,\n",
    "df_vegetal2013.shape)\n",
    "dfppop=df_population2013.rename(columns={\"Domain Code\":\"Code Domaine\",\"Domain\":\"Domaine\",\"Country Code\":\"Code Pays\",\"Country\":\"Pays\",\"Element Code\":\"Code Élément\",\"Element\":\"Élément\",\"Item Code\":\"Code Produit\",\"Item\":\"Produit\",\"Year Code\":\"Code Année\",\"Year\":\"Année\",\"Unit\":\"Unité\",\"Value\":\"Valeur\",\"Flag\":\"Symbole\",\"Flag Description\":\"Description du Symbole\"})\n",
    "dfsousalim=df_sous_alimentation2013.rename(columns={\"Code zone\":\"Code Pays\",\"Zone\":\"Pays\",\"Code année\":\"Code Année\"})\n",
    "df_totalite=pd.concat([df_cereal2013,df_vegetal2013,df_animal2013,dfppop,dfsousalim])"
   ]
  },
  {
   "cell_type": "code",
   "execution_count": 6,
   "metadata": {
    "colab": {
     "base_uri": "https://localhost:8080/"
    },
    "id": "dmzlRw8rgit_",
    "outputId": "6cad3c11-760b-4c19-c5f8-c2ae377cfcc4"
   },
   "outputs": [
    {
     "data": {
      "text/plain": [
       "(158473, 14)"
      ]
     },
     "execution_count": 6,
     "metadata": {},
     "output_type": "execute_result"
    }
   ],
   "source": [
    "df_totalite.shape"
   ]
  },
  {
   "cell_type": "code",
   "execution_count": 7,
   "metadata": {
    "id": "Q7XhufuJu1lZ"
   },
   "outputs": [],
   "source": [
    "\n",
    "df_totalite.to_csv(\"totalite.csv\",index=False)\n",
    "#print(df_totalite)#print(df_totalite)"
   ]
  },
  {
   "cell_type": "code",
   "execution_count": 9,
   "metadata": {
    "colab": {
     "base_uri": "https://localhost:8080/"
    },
    "id": "3f2dxvvWxLjh",
    "outputId": "96a14fa5-b408-46a1-ac03-db1f68a7bd03"
   },
   "outputs": [
    {
     "data": {
      "text/plain": [
       "Index([], dtype='int64')"
      ]
     },
     "execution_count": 9,
     "metadata": {},
     "output_type": "execute_result"
    }
   ],
   "source": [
    "df=df_totalite[df_totalite.Symbole==\"A\"]\n",
    "df.index\n",
    "df_totalite.drop(index=df.index,inplace=True)\n",
    "\n",
    "df.index"
   ]
  },
  {
   "cell_type": "markdown",
   "metadata": {
    "id": "bjhMpz5ezDxy"
   },
   "source": [
    "# Question 1"
   ]
  },
  {
   "cell_type": "code",
   "execution_count": null,
   "metadata": {},
   "outputs": [],
   "source": []
  }
 ],
 "metadata": {
  "colab": {
   "provenance": []
  },
  "kernelspec": {
   "display_name": "Python 3 (ipykernel)",
   "language": "python",
   "name": "python3"
  },
  "language_info": {
   "codemirror_mode": {
    "name": "ipython",
    "version": 3
   },
   "file_extension": ".py",
   "mimetype": "text/x-python",
   "name": "python",
   "nbconvert_exporter": "python",
   "pygments_lexer": "ipython3",
   "version": "3.11.5"
  }
 },
 "nbformat": 4,
 "nbformat_minor": 1
}
